{
 "cells": [
  {
   "cell_type": "markdown",
   "id": "43fffb0e-2e93-42c5-98bf-891f35a97e24",
   "metadata": {},
   "source": [
    "# My First Markdown Heading"
   ]
  },
  {
   "cell_type": "markdown",
   "id": "9d767cad-8d45-4e40-9dc5-d07b7d498340",
   "metadata": {},
   "source": [
    "## My Second Markdown Heading"
   ]
  },
  {
   "cell_type": "markdown",
   "id": "285d0cac-e98a-4728-8d68-cf3a50bbff95",
   "metadata": {},
   "source": [
    "This is Some **bold** Text"
   ]
  },
  {
   "cell_type": "markdown",
   "id": "447eb7c0-d0e7-4a5c-b7f8-12e4b5fd5081",
   "metadata": {},
   "source": [
    "1. First Item 2. Second Item 3. Third Item"
   ]
  },
  {
   "cell_type": "code",
   "execution_count": 3,
   "id": "a00e6732-65ef-4ed5-9db8-e5362ecbcde5",
   "metadata": {},
   "outputs": [],
   "source": [
    "my_var = 5 "
   ]
  },
  {
   "cell_type": "code",
   "execution_count": 5,
   "id": "625803a1-8e52-4827-a957-15753ed5b1a4",
   "metadata": {},
   "outputs": [
    {
     "name": "stdout",
     "output_type": "stream",
     "text": [
      "10\n"
     ]
    }
   ],
   "source": [
    "result = my_var * 2\n",
    "print(result)"
   ]
  },
  {
   "cell_type": "code",
   "execution_count": null,
   "id": "9fb32fb2-e3b5-435f-8c9a-9a3c3e9edc69",
   "metadata": {},
   "outputs": [],
   "source": []
  }
 ],
 "metadata": {
  "kernelspec": {
   "display_name": "Python 3 (ipykernel)",
   "language": "python",
   "name": "python3"
  },
  "language_info": {
   "codemirror_mode": {
    "name": "ipython",
    "version": 3
   },
   "file_extension": ".py",
   "mimetype": "text/x-python",
   "name": "python",
   "nbconvert_exporter": "python",
   "pygments_lexer": "ipython3",
   "version": "3.10.9"
  }
 },
 "nbformat": 4,
 "nbformat_minor": 5
}
